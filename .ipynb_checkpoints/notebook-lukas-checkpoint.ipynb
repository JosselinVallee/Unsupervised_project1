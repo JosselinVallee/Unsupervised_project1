{
 "cells": [
  {
   "cell_type": "code",
   "execution_count": 1,
   "metadata": {
    "collapsed": true
   },
   "outputs": [],
   "source": [
    "import numpy as np\n",
    "import matplotlib.pyplot as plt\n",
    "import pandas as pd\n",
    "\n",
    "%matplotlib inline\n",
    "pd.options.mode.chained_assignment = None  # default='warn'"
   ]
  },
  {
   "cell_type": "code",
   "execution_count": 2,
   "metadata": {
    "collapsed": true
   },
   "outputs": [],
   "source": [
    "def center_position(points):\n",
    "    c = np.mean(points, axis=0)\n",
    "    assert len(c) == len(points[0])\n",
    "    return c"
   ]
  },
  {
   "cell_type": "code",
   "execution_count": 3,
   "metadata": {
    "collapsed": true
   },
   "outputs": [],
   "source": [
    "def distance(p1, p2):\n",
    "    return np.sqrt(np.sum((p1 - p2)**2))"
   ]
  },
  {
   "cell_type": "code",
   "execution_count": 4,
   "metadata": {
    "collapsed": true
   },
   "outputs": [],
   "source": [
    "def center_for_point_index(p, centers):\n",
    "    \"\"\"\n",
    "    returns the index of the center that is closest to p\n",
    "    \"\"\"\n",
    "    return np.argmin(centers - p)\n",
    "def center_for_point(p, centers):\n",
    "    \"\"\"\n",
    "    returns the center closest to p\n",
    "    \"\"\"\n",
    "    return centers[center_for_point_index(p, centers)]"
   ]
  },
  {
   "cell_type": "code",
   "execution_count": 5,
   "metadata": {
    "collapsed": true
   },
   "outputs": [],
   "source": [
    "def neigh_r(p1, p2, centers, r):\n",
    "    \"\"\"\n",
    "    p1, p2: the two data points\n",
    "    centers: the neurons\n",
    "    r: int radius\n",
    "    returns 1 iff the two points belong to centers at most r hops away from eachother.\n",
    "    eg neigh_r(0) returns 1 only if p1 and p2 belong to the same center\n",
    "    \n",
    "    In this 4x4 map A and B are 2 hops away from eachother.\n",
    "    [[ 0,  1,  2,  3],\n",
    "     [ A,  5,  B,  7],\n",
    "     [ 8,  9, 10, 11],\n",
    "     [12, 13, 14, 15]]\n",
    "    \"\"\"\n",
    "    i1 = center_for_point_index(p1, centers)\n",
    "    i2 = center_for_point_index(p2, centers)\n",
    "    \n",
    "    if i1 == i2:\n",
    "        return 1\n",
    "    \n",
    "    n =len(centers)\n",
    "    assert np.sqrt(n) == int(np.sqrt(n)) # make sure n is a square number\n",
    "    size_k = int(np.sqrt(n))\n",
    "    \n",
    "    col_i1 = i1 % size_k\n",
    "    row_i1 = int(i1 / size_k)\n",
    "    \n",
    "    col_i2 = i2 % size_k\n",
    "    row_i2 = int(i2 / size_k)\n",
    "    \n",
    "    dist = max(abs(col_i1 - col_i2), abs(row_i1 - row_i2))\n",
    "    \n",
    "    return 1 if dist <= r else 0"
   ]
  },
  {
   "cell_type": "code",
   "execution_count": 6,
   "metadata": {
    "collapsed": true
   },
   "outputs": [],
   "source": [
    "def stab_r(stability_matrix):\n",
    "    \"\"\"\n",
    "    Calculates a stability score for the map\n",
    "    \"\"\"\n",
    "    s = 0\n",
    "    nbr_points = np.shape(stability_matrix)[0]\n",
    "    for i1 in range(0, nbr_points):\n",
    "        for i2 in range(i1, nbr_points):\n",
    "            stab = stability_matrix[i1][i2]\n",
    "            s += min(1 - stab, stab)\n",
    "    return s"
   ]
  },
  {
   "cell_type": "code",
   "execution_count": 7,
   "metadata": {
    "collapsed": true
   },
   "outputs": [],
   "source": [
    "def update_stab_matrix(stability_matrix, points, centers, t, r):\n",
    "    nbr_points = np.shape(stability_matrix)[0]\n",
    "    for i1 in range(0, nbr_points):\n",
    "        for i2 in range(i1, nbr_points):\n",
    "            n = neigh_r(points[i1, :], points[i2, :], centers, r)\n",
    "            stability_matrix[i1][i2] = ((t-1)*stability_matrix[i1][i2] + n) / t\n",
    "            "
   ]
  },
  {
   "cell_type": "code",
   "execution_count": 8,
   "metadata": {
    "collapsed": true
   },
   "outputs": [],
   "source": [
    "def init_stab_matrix(size):\n",
    "    return np.zeros((size, size))"
   ]
  },
  {
   "cell_type": "code",
   "execution_count": 14,
   "metadata": {
    "collapsed": false
   },
   "outputs": [
    {
     "data": {
      "text/plain": [
       "\"\\n    # for visualization, you can use this:\\n    for i in range(size_k**2):\\n        plt.subplot(size_k,size_k,i+1)\\n        \\n        plt.imshow(np.reshape(centers[i,:], [28, 28]),interpolation='bilinear')\\n        plt.axis('off')\\n        \""
      ]
     },
     "execution_count": 14,
     "metadata": {},
     "output_type": "execute_result"
    }
   ],
   "source": [
    "def kohonen():\n",
    "    \"\"\"Example for using create_data, plot_data and som_step.\n",
    "    \"\"\"\n",
    "    \n",
    "    dim = 28*28\n",
    "    data_range = 255.0\n",
    "    \n",
    "    # load in data and labels    \n",
    "    data = np.array(np.loadtxt('data.txt'))\n",
    "    labels = np.loadtxt('labels.txt')\n",
    "\n",
    "    # select 4 digits    \n",
    "    name = 'Marc-oliver Gewaltig' # REPLACE BY YOUR OWN NAME\n",
    "    targetdigits = name2digits(name) # assign the four digits that should be used\n",
    "    print(targetdigits) # output the digits that were selected\n",
    "    # this selects all data vectors that corresponds to one of the four digits\n",
    "    data = data[np.logical_or.reduce([labels==x for x in targetdigits]),:]\n",
    "    \n",
    "    dy, dx = data.shape\n",
    "    \n",
    "    #set the size of the Kohonen map. In this case it will be 6 X 6\n",
    "    size_k = 6\n",
    "    \n",
    "    #set the width of the neighborhood via the width of the gaussian that\n",
    "    #describes it\n",
    "    sigma = 2.0\n",
    "    \n",
    "    #initialise the centers randomly\n",
    "    centers = np.random.rand(size_k**2, dim) * data_range\n",
    "    \n",
    "    #build a neighborhood matrix\n",
    "    neighbor = np.arange(size_k**2).reshape((size_k, size_k))\n",
    "\n",
    "    #set the learning rate\n",
    "    eta = 0.1 # HERE YOU HAVE TO SET YOUR OWN LEARNING RATE\n",
    "    \n",
    "    #set the maximal iteration count\n",
    "    tmax = 3000 # this might or might not work; use your own convergence criterion\n",
    "    \n",
    "    #set the random order in which the datapoints should be presented\n",
    "    i_random = np.arange(tmax) % dy\n",
    "    np.random.shuffle(i_random)\n",
    "    \n",
    "    R = 1\n",
    "    \n",
    "    \n",
    "    data_sample = data[np.random.choice(data.shape[0], data.shape[0]*0.05, replace=False)]\n",
    "    print(\"nbr sample: \", len(data_sample))\n",
    "    stab_matrix = init_stab_matrix(len(data_sample))\n",
    "    update_stab_matrix(stab_matrix, data_sample, centers, 1, R)\n",
    "    \n",
    "    old_centers_center = center_position(centers)\n",
    "    diff_center = []\n",
    "    diff_center_mean = []\n",
    "    stab_scores = []\n",
    "    for t, i in enumerate(i_random):\n",
    "        som_step(centers, data[i,:],neighbor,eta,sigma)\n",
    "        centers_center = center_position(centers)\n",
    "        diff_center.append(distance(old_centers_center, centers_center))\n",
    "        diff_center_mean.append(np.mean(diff_center))\n",
    "        #print(diff_center[-1])\n",
    "        old_centers_center = centers_center\n",
    "        \n",
    "        update_stab_matrix(stab_matrix, data_sample, centers, t+1, R)\n",
    "        stab_scores.append(stab_r(stab_matrix))\n",
    "        \n",
    "        print(\".\", end=\"\")\n",
    "        if t % 100 == 0:\n",
    "            print(t)\n",
    "        \n",
    "\n",
    "    \n",
    "    #plt.plot(diff_center_mean)\n",
    "    plt.plot(stab_scores)\n",
    "    plt.show()\n",
    "    stab_matrix_flat = []\n",
    "    for i1 in range(0, np.shape(stab_matrix)[0]):\n",
    "        for i2 in range(i1, np.shape(stab_matrix)[1]):\n",
    "            stab_matrix_flat.append(stab_matrix[i1][i2])\n",
    "    \n",
    "    print(\"len flat\", len(stab_matrix_flat), \"shape matrix\", np.shape(stab_matrix))\n",
    "    plt.hist(stab_matrix_flat, bins=100)\n",
    "\"\"\"\n",
    "    # for visualization, you can use this:\n",
    "    for i in range(size_k**2):\n",
    "        plt.subplot(size_k,size_k,i+1)\n",
    "        \n",
    "        plt.imshow(np.reshape(centers[i,:], [28, 28]),interpolation='bilinear')\n",
    "        plt.axis('off')\n",
    "        \"\"\"\n",
    "   \n",
    "    "
   ]
  },
  {
   "cell_type": "code",
   "execution_count": 10,
   "metadata": {
    "collapsed": true
   },
   "outputs": [],
   "source": [
    "def som_step(centers,data,neighbor,eta,sigma):\n",
    "    \"\"\"Performs one step of the sequential learning for a \n",
    "    self-organized map (SOM).\n",
    "    \n",
    "      centers = som_step(centers,data,neighbor,eta,sigma)\n",
    "    \n",
    "      Input and output arguments: \n",
    "       centers  (matrix) cluster centres. Have to be in format:\n",
    "                         center X dimension\n",
    "       data     (vector) the actually presented datapoint to be presented in\n",
    "                         this timestep\n",
    "       neighbor (matrix) the coordinates of the centers in the desired\n",
    "                         neighborhood.\n",
    "       eta      (scalar) a learning rate\n",
    "       sigma    (scalar) the width of the gaussian neighborhood function.\n",
    "                         Effectively describing the width of the neighborhood\n",
    "    \"\"\"\n",
    "    \n",
    "    size_k = int(np.sqrt(len(centers)))\n",
    "    \n",
    "    #find the best matching unit via the minimal distance to the datapoint\n",
    "    b = np.argmin(np.sum((centers - np.resize(data, (size_k**2, data.size)))**2,1))\n",
    "\n",
    "    # find coordinates of the winner\n",
    "    a,b = np.nonzero(neighbor == b)\n",
    "        \n",
    "    # update all units\n",
    "    for j in range(size_k**2):\n",
    "        # find coordinates of this unit\n",
    "        a1,b1 = np.nonzero(neighbor==j)\n",
    "        # calculate the distance and discounting factor\n",
    "        disc=gauss(np.sqrt((a-a1)**2+(b-b1)**2),[0, sigma])\n",
    "        # update weights        \n",
    "        centers[j,:] += disc * eta * (data - centers[j,:])\n",
    "        "
   ]
  },
  {
   "cell_type": "code",
   "execution_count": 11,
   "metadata": {
    "collapsed": true
   },
   "outputs": [],
   "source": [
    "def gauss(x,p):\n",
    "    \"\"\"Return the gauss function N(x), with mean p[0] and std p[1].\n",
    "    Normalized such that N(x=p[0]) = 1.\n",
    "    \"\"\"\n",
    "    return np.exp((-(x - p[0])**2) / (2 * p[1]**2))"
   ]
  },
  {
   "cell_type": "code",
   "execution_count": 12,
   "metadata": {
    "collapsed": true
   },
   "outputs": [],
   "source": [
    "def name2digits(name):\n",
    "    \"\"\" takes a string NAME and converts it into a pseudo-random selection of 4\n",
    "     digits from 0-9.\n",
    "     \n",
    "     Example:\n",
    "     name2digits('Felipe Gerhard')\n",
    "     returns: [0 4 5 7]\n",
    "     \"\"\"\n",
    "    \n",
    "    name = name.lower()\n",
    "    \n",
    "    if len(name)>25:\n",
    "        name = name[0:25]\n",
    "        \n",
    "    primenumbers = [2,3,5,7,11,13,17,19,23,29,31,37,41,43,47,53,59,61,67,71,73,79,83,89,97]\n",
    "    \n",
    "    n = len(name)\n",
    "    \n",
    "    s = 0.0\n",
    "    \n",
    "    for i in range(n):\n",
    "        s += primenumbers[i]*ord(name[i])*2.0**(i+1)\n",
    "\n",
    "    import scipy.io.matlab\n",
    "    Data = scipy.io.matlab.loadmat('hash.mat',struct_as_record=True)\n",
    "    x = Data['x']\n",
    "    t = np.mod(s,x.shape[0])\n",
    "\n",
    "    return np.sort(x[t,:])"
   ]
  },
  {
   "cell_type": "code",
   "execution_count": 15,
   "metadata": {
    "collapsed": false
   },
   "outputs": [
    {
     "name": "stderr",
     "output_type": "stream",
     "text": [
      "/home/lukas/anaconda3/lib/python3.5/site-packages/ipykernel/__main__.py:29: VisibleDeprecationWarning: using a non-integer number instead of an integer will result in an error in the future\n",
      "/home/lukas/anaconda3/lib/python3.5/site-packages/ipykernel/__main__.py:47: VisibleDeprecationWarning: using a non-integer number instead of an integer will result in an error in the future\n"
     ]
    },
    {
     "name": "stdout",
     "output_type": "stream",
     "text": [
      "[2 4 8 9]\n",
      "nbr sample:  100\n",
      ".0\n",
      "....................................................................................................100\n",
      "....................................................................................................200\n",
      "....................................................................................................300\n",
      "....................................................................................................400\n",
      "....................................................................................................500\n",
      "....................................................................................................600\n",
      "....................................................................................................700\n",
      "....................................................................................................800\n",
      "....................................................................................................900\n",
      "....................................................................................................1000\n",
      "....................................................................................................1100\n",
      "....................................................................................................1200\n",
      "....................................................................................................1300\n",
      "....................................................................................................1400\n",
      "....................................................................................................1500\n",
      "....................................................................................................1600\n",
      "....................................................................................................1700\n",
      "....................................................................................................1800\n",
      "....................................................................................................1900\n",
      "....................................................................................................2000\n",
      "....................................................................................................2100\n",
      "....................................................................................................2200\n",
      "....................................................................................................2300\n",
      "....................................................................................................2400\n",
      "....................................................................................................2500\n",
      "....................................................................................................2600\n",
      "....................................................................................................2700\n",
      "....................................................................................................2800\n",
      "....................................................................................................2900\n",
      "..................................................................................................."
     ]
    },
    {
     "data": {
      "image/png": "[encoded data removed]",
      "text/plain": [
       "<matplotlib.figure.Figure at 0x7f3934e05048>"
      ]
     },
     "metadata": {},
     "output_type": "display_data"
    },
    {
     "name": "stdout",
     "output_type": "stream",
     "text": [
      "len flat 5050 shape matrix (100, 100)\n"
     ]
    },
    {
     "data": {
      "image/png": "[encoded data removed]",
      "text/plain": [
       "<matplotlib.figure.Figure at 0x7f3934cd7cf8>"
      ]
     },
     "metadata": {},
     "output_type": "display_data"
    }
   ],
   "source": [
    "kohonen()"
   ]
  },
  {
   "cell_type": "code",
   "execution_count": null,
   "metadata": {
    "collapsed": true
   },
   "outputs": [],
   "source": []
  },
  {
   "cell_type": "code",
   "execution_count": null,
   "metadata": {
    "collapsed": true
   },
   "outputs": [],
   "source": []
  },
  {
   "cell_type": "code",
   "execution_count": null,
   "metadata": {
    "collapsed": true
   },
   "outputs": [],
   "source": []
  }
 ],
 "metadata": {
  "anaconda-cloud": {},
  "kernelspec": {
   "display_name": "Python [Root]",
   "language": "python",
   "name": "Python [Root]"
  },
  "language_info": {
   "codemirror_mode": {
    "name": "ipython",
    "version": 3
   },
   "file_extension": ".py",
   "mimetype": "text/x-python",
   "name": "python",
   "nbconvert_exporter": "python",
   "pygments_lexer": "ipython3",
   "version": "3.5.2"
  }
 },
 "nbformat": 4,
 "nbformat_minor": 0
}

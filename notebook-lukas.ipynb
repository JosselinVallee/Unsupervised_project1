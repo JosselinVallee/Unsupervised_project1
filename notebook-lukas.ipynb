{
 "cells": [
  {
   "cell_type": "markdown",
   "metadata": {},
   "source": [
    "Ideas:\n",
    "- look at each center for convergence"
   ]
  },
  {
   "cell_type": "code",
   "execution_count": 1,
   "metadata": {
    "collapsed": false
   },
   "outputs": [],
   "source": [
    "import numpy as np\n",
    "import matplotlib.pyplot as plt\n",
    "import pandas as pd\n",
    "import random\n",
    "from hashable import *\n",
    "\n",
    "%matplotlib inline\n",
    "pd.options.mode.chained_assignment = None  # default='warn'"
   ]
  },
  {
   "cell_type": "code",
   "execution_count": 2,
   "metadata": {
    "collapsed": true
   },
   "outputs": [],
   "source": [
    "def center_position(points):\n",
    "    c = np.mean(points, axis=0)\n",
    "    assert len(c) == len(points[0])\n",
    "    return c"
   ]
  },
  {
   "cell_type": "code",
   "execution_count": 3,
   "metadata": {
    "collapsed": true
   },
   "outputs": [],
   "source": [
    "def distance(p1, p2):\n",
    "    return np.sqrt(np.sum((p1 - p2)**2))"
   ]
  },
  {
   "cell_type": "code",
   "execution_count": 4,
   "metadata": {
    "collapsed": true
   },
   "outputs": [],
   "source": [
    "def center_for_point_index(p, centers):\n",
    "    \"\"\"\n",
    "    returns the index of the center that is closest to p\n",
    "    \"\"\"\n",
    "    return np.argmin(centers - p)\n",
    "def center_for_point(p, centers):\n",
    "    \"\"\"\n",
    "    returns the center closest to p\n",
    "    \"\"\"\n",
    "    return centers[center_for_point_index(p, centers)]"
   ]
  },
  {
   "cell_type": "code",
   "execution_count": 5,
   "metadata": {
    "collapsed": true
   },
   "outputs": [],
   "source": [
    "def neigh_r(p1, p2, centers, r):\n",
    "    \"\"\"\n",
    "    p1, p2: the two data points\n",
    "    centers: the neurons\n",
    "    r: int radius\n",
    "    returns 1 iff the two points belong to centers at most r hops away from eachother.\n",
    "    eg neigh_r(0) returns 1 only if p1 and p2 belong to the same center\n",
    "    \n",
    "    In this 4x4 map A and B are 2 hops away from eachother.\n",
    "    [[ 0,  1,  2,  3],\n",
    "     [ A,  5,  B,  7],\n",
    "     [ 8,  9, 10, 11],\n",
    "     [12, 13, 14, 15]]\n",
    "    \"\"\"\n",
    "    i1 = center_for_point_index(p1, centers)\n",
    "    i2 = center_for_point_index(p2, centers)\n",
    "    \n",
    "    if i1 == i2:\n",
    "        return 1\n",
    "    \n",
    "    n =len(centers)\n",
    "    assert np.sqrt(n) == int(np.sqrt(n)) # make sure n is a square number\n",
    "    size_k = int(np.sqrt(n))\n",
    "    \n",
    "    col_i1 = i1 % size_k\n",
    "    row_i1 = int(i1 / size_k)\n",
    "    \n",
    "    col_i2 = i2 % size_k\n",
    "    row_i2 = int(i2 / size_k)\n",
    "    \n",
    "    dist = max(abs(col_i1 - col_i2), abs(row_i1 - row_i2))\n",
    "    \n",
    "    return 1 if dist <= r else 0"
   ]
  },
  {
   "cell_type": "code",
   "execution_count": 6,
   "metadata": {
    "collapsed": true
   },
   "outputs": [],
   "source": [
    "def stab_score_dict(stability_dict):\n",
    "    score = 0\n",
    "    for stab in stability_dict.values():\n",
    "        diff = min(1-stab, stab)\n",
    "        score += ((1+diff)**2)-1\n",
    "    return score/len(stability_dict)"
   ]
  },
  {
   "cell_type": "code",
   "execution_count": 7,
   "metadata": {
    "collapsed": true
   },
   "outputs": [],
   "source": [
    "def update_stab_dict(stability_dict, centers, t, r):\n",
    "    for p, stab in stability_dict.items():\n",
    "        n = neigh_r(p[0].unwrap(), p[1].unwrap(), centers, r)\n",
    "        stability_dict[p] = (t*stab + n) / (t+1)"
   ]
  },
  {
   "cell_type": "code",
   "execution_count": 8,
   "metadata": {
    "collapsed": false
   },
   "outputs": [],
   "source": [
    "def update_stab_dict_moving_avg(stability_dict, stability_history, centers, N, r):\n",
    "        for p, stab in stability_dict.items():\n",
    "            n = neigh_r(p[0].unwrap(), p[1].unwrap(), centers, r)\n",
    "            stability_history[p].append(n)\n",
    "            h = stability_history[p]\n",
    "            m = max(0, len(h)-N-1)\n",
    "            stability_dict[p] = np.mean(h[m:])\n",
    "            "
   ]
  },
  {
   "cell_type": "code",
   "execution_count": 9,
   "metadata": {
    "collapsed": true
   },
   "outputs": [],
   "source": [
    "def closest_point_index(data, point):\n",
    "    \"\"\"\n",
    "    returns the index in data that represents the vector closest to point\n",
    "    \"\"\"\n",
    "    return np.argmin(np.sum(abs(data[:] - point), 1))\n",
    "    "
   ]
  },
  {
   "cell_type": "code",
   "execution_count": 10,
   "metadata": {
    "collapsed": false
   },
   "outputs": [],
   "source": [
    "def init_stab_dict_close_pairs(data, size):\n",
    "    d = {}\n",
    "    seen = set()\n",
    "    i = 0\n",
    "    while len(d) < size and i < len(data):\n",
    "        if i not in seen:\n",
    "            p1 = data[i, :]\n",
    "            i2 = closest_point_index(data, p1)\n",
    "            p2 = data[i2, :]\n",
    "            d[(hashable(p1), hashable(p2))] = 0.5\n",
    "            seen.add(i)\n",
    "            seen.add(i2)\n",
    "            i += 1\n",
    "    return d\n",
    "        "
   ]
  },
  {
   "cell_type": "code",
   "execution_count": 11,
   "metadata": {
    "collapsed": true
   },
   "outputs": [],
   "source": [
    "def init_stab_dict_random_pairs(data, size):\n",
    "    d = {}\n",
    "    seen = set()\n",
    "    i = 0\n",
    "    while len(d) < size and i < len(data):\n",
    "        if i not in seen:\n",
    "            p1 = data[i, :]\n",
    "            i2 = random.randint(i+1, len(data)-1)\n",
    "            p2 = data[i2, :]\n",
    "            d[(hashable(p1), hashable(p2))] = 0.5\n",
    "            seen.add(i)\n",
    "            seen.add(i2)\n",
    "        i += 1\n",
    "    return d\n",
    "        "
   ]
  },
  {
   "cell_type": "code",
   "execution_count": 12,
   "metadata": {
    "collapsed": true
   },
   "outputs": [],
   "source": [
    "def init_stab_dict_random_pairs_biased_to_close(data, size):\n",
    "    d = {}\n",
    "    seen = set()\n",
    "    i = 0\n",
    "    while len(d) < size and i < len(data):\n",
    "        if i not in seen:\n",
    "            p1 = data[i, :]\n",
    "            i2 = i+1\n",
    "            if random.choice([False, False, True, True, True]):\n",
    "                i2 = random.randint(i+1, len(data)-1)\n",
    "            else:\n",
    "                i2 = closest_point_index(data, p1)\n",
    "            random.randint\n",
    "            p2 = data[i2, :]\n",
    "            d[(hashable(p1), hashable(p2))] = 0.5\n",
    "            seen.add(i)\n",
    "            seen.add(i2)\n",
    "        i += 1\n",
    "    return d\n",
    "        "
   ]
  },
  {
   "cell_type": "code",
   "execution_count": 13,
   "metadata": {
    "collapsed": false
   },
   "outputs": [],
   "source": [
    "def init_stab_hist(stab_dict):\n",
    "    hd = {}\n",
    "    for p in stab_dict:\n",
    "        hd[p] = []\n",
    "    return hd"
   ]
  },
  {
   "cell_type": "code",
   "execution_count": 14,
   "metadata": {
    "collapsed": false
   },
   "outputs": [],
   "source": [
    "def kohonen(max_iter=1000, R=1, init_eta=0.1):\n",
    "    \"\"\"Example for using create_data, plot_data and som_step.\n",
    "    \"\"\"\n",
    "    \n",
    "    dim = 28*28\n",
    "    data_range = 255.0\n",
    "    \n",
    "    # load in data and labels    \n",
    "    data = np.array(np.loadtxt('data.txt'))\n",
    "    labels = np.loadtxt('labels.txt')\n",
    "\n",
    "    # select 4 digits    \n",
    "    name = 'Lukas Pestalozzi' \n",
    "    targetdigits = [0, 1, 2, 9] # name2digits(name) # assign the four digits that should be used\n",
    "    print(targetdigits) # output the digits that were selected\n",
    "    # this selects all data vectors that corresponds to one of the four digits\n",
    "    data = data[np.logical_or.reduce([labels==x for x in targetdigits]),:]\n",
    "    \n",
    "    dy, dx = data.shape\n",
    "    \n",
    "    #set the size of the Kohonen map. In this case it will be 6 X 6\n",
    "    size_k = 6\n",
    "    \n",
    "    #set the width of the neighborhood via the width of the gaussian that\n",
    "    #describes it\n",
    "    sigma = 2.0\n",
    "    \n",
    "    #initialise the centers randomly\n",
    "    centers = np.random.rand(size_k**2, dim) * data_range\n",
    "    \n",
    "    #build a neighborhood matrix\n",
    "    neighbor = np.arange(size_k**2).reshape((size_k, size_k))\n",
    "\n",
    "    #set the learning rate\n",
    "    eta = init_eta\n",
    "    \n",
    "    #set the maximal iteration count\n",
    "    tmax = max_iter\n",
    "    \n",
    "    #set the random order in which the datapoints should be presented\n",
    "    i_random = np.arange(tmax) % dy\n",
    "    np.random.shuffle(i_random)\n",
    "    \n",
    "    \n",
    "    T = 1\n",
    "    #N = 500\n",
    "    stab_dict = init_stab_dict_random_pairs_biased_to_close(data, data.shape[0]*0.05)\n",
    "    #stab_hist = init_stab_hist(stab_dict)\n",
    "    print(\"nbr sample: \", len(stab_dict))\n",
    "    update_stab_dict(stab_dict,centers, T, R)\n",
    "    T+=1\n",
    "    \n",
    "    print(\"init vals:\", list(stab_dict.values()))\n",
    "    plt.hist(list(stab_dict.values()), bins=100)\n",
    "    plt.title(\"init hist\")\n",
    "    plt.show()\n",
    "    \n",
    "    old_centers_center = center_position(centers)\n",
    "    diff_center = []\n",
    "    diff_center_mean = []\n",
    "    stab_scores = []\n",
    "    for t, i in enumerate(i_random):\n",
    "        som_step(centers, data[i,:],neighbor,eta,sigma)\n",
    "        centers_center = center_position(centers)\n",
    "        diff_center.append(distance(old_centers_center, centers_center))\n",
    "        diff_center_mean.append(np.mean(diff_center))\n",
    "        #print(diff_center[-1])\n",
    "        old_centers_center = centers_center\n",
    "        \n",
    "        if t % 10 == 0:\n",
    "            update_stab_dict(stab_dict,centers, T, R)\n",
    "            T+=1\n",
    "            stab_scores.append((stab_score_dict(stab_dict), t))\n",
    "        \n",
    "        \n",
    "        if t % 1000 == 0:\n",
    "            print(t, \"score(\", stab_scores[-1][0],\")\", end=\"\")\n",
    "            #plt.hist(list(stab_dict.values()), bins=100)\n",
    "            #plt.title(\"hist iter \"+str(t))\n",
    "            #plt.show()\n",
    "                               \n",
    "        if t % 100 == 0:\n",
    "            print(\".\", end=\"\")\n",
    "        \n",
    "        \n",
    "\n",
    "    \n",
    "    #plt.plot(diff_center_mean)\n",
    "    plt.plot([v[1] for v in stab_scores], [v[0] for v in stab_scores])\n",
    "    plt.title(\"stab_scores\")\n",
    "    plt.show()\n",
    "    print(\"vals: \", list(stab_dict.values()))\n",
    "    plt.hist(list(stab_dict.values()), bins=100)\n",
    "    plt.title(\"final hist\")\n",
    "\n",
    "    \"\"\"\n",
    "    stab_matrix_flat = []\n",
    "    for i1 in range(0, np.shape(stab_matrix)[0]):\n",
    "        for i2 in range(i1, np.shape(stab_matrix)[1]):\n",
    "            stab_matrix_flat.append(stab_matrix[i1][i2])\n",
    "    \n",
    "    print(\"len flat\", len(stab_matrix_flat), \"shape matrix\", np.shape(stab_matrix))\n",
    "    plt.hist(stab_matrix_flat, bins=100)\n",
    "\n",
    "    # for visualization, you can use this:\n",
    "    for i in range(size_k**2):\n",
    "        plt.subplot(size_k,size_k,i+1)\n",
    "        \n",
    "        plt.imshow(np.reshape(centers[i,:], [28, 28]),interpolation='bilinear')\n",
    "        plt.axis('off')\n",
    "        \"\"\"\n",
    "   \n",
    "    "
   ]
  },
  {
   "cell_type": "code",
   "execution_count": 20,
   "metadata": {
    "collapsed": false,
    "scrolled": true
   },
   "outputs": [
    {
     "name": "stdout",
     "output_type": "stream",
     "text": [
      "[0, 1, 2, 9]\n",
      "nbr sample:  100\n",
      "init vals: [0.25, 0.25, 0.75, 0.25, 0.25, 0.25, 0.25, 0.25, 0.25, 0.75, 0.25, 0.25, 0.75, 0.75, 0.75, 0.25, 0.75, 0.75, 0.75, 0.75, 0.25, 0.25, 0.25, 0.75, 0.25, 0.25, 0.25, 0.25, 0.25, 0.75, 0.75, 0.75, 0.75, 0.75, 0.75, 0.25, 0.25, 0.75, 0.75, 0.75, 0.75, 0.75, 0.75, 0.25, 0.75, 0.75, 0.25, 0.75, 0.25, 0.25, 0.25, 0.75, 0.75, 0.25, 0.25, 0.75, 0.25, 0.75, 0.75, 0.25, 0.25, 0.25, 0.25, 0.25, 0.75, 0.25, 0.75, 0.25, 0.25, 0.75, 0.25, 0.25, 0.25, 0.75, 0.25, 0.75, 0.25, 0.25, 0.75, 0.25, 0.25, 0.25, 0.25, 0.25, 0.25, 0.25, 0.25, 0.25, 0.75, 0.75, 0.25, 0.25, 0.25, 0.75, 0.75, 0.25, 0.25, 0.25, 0.25, 0.75]\n"
     ]
    },
    {
     "data": {
      "image/png": "[encoded data removed]",
      "text/plain": [
       "<matplotlib.figure.Figure at 0x7fdb76282828>"
      ]
     },
     "metadata": {},
     "output_type": "display_data"
    },
    {
     "name": "stdout",
     "output_type": "stream",
     "text": [
      "0 score( 0.41444444444444484 )..........1000 score( 0.030096144782731562 )..........2000 score( 0.02272489019388969 )..........3000 score( 0.02211885544990132 )..........4000 score( 0.021758831099261914 )..........5000 score( 0.02077392503823959 )..........6000 score( 0.019916751235530484 )..........7000 score( 0.019625118118043138 )..........8000 score( 0.019060264357352415 )..........9000 score( 0.019149347137448754 )..........10000 score( 0.018913140936115055 )..........11000 score( 0.019105932966137808 )..........12000 score( 0.019476240128412637 )..........13000 score( 0.018935810800861694 )..........14000 score( 0.018873724922005477 )..........15000 score( 0.0191424514023626 )..........16000 score( 0.01884465301919475 )..........17000 score( 0.018581678079062386 )..........18000 score( 0.01827459872296394 )..........19000 score( 0.018310892252159393 )..........20000 score( 0.01861067360516891 )..........21000 score( 0.018619893822854183 )..........22000 score( 0.018894613852401643 )..........23000 score( 0.01905567300783252 )..........24000 score( 0.01880495995347746 )..........25000 score( 0.018787447871184446 )..........26000 score( 0.018925270038457 )..........27000 score( 0.018802688234076017 )..........28000 score( 0.01869919327299405 )..........29000 score( 0.018783086236825383 )..........30000 score( 0.0186855380162073 )..........31000 score( 0.01867565398075662 )..........32000 score( 0.018673339240871313 )..........33000 score( 0.018716491736931316 )..........34000 score( 0.018699355955389747 )..........35000 score( 0.018619509610008342 )..........36000 score( 0.018604968767738927 )..........37000 score( 0.018589234601077097 )..........38000 score( 0.018679584996247837 )..........39000 score( 0.018705507742882876 )..........40000 score( 0.01878457569513342 )..........41000 score( 0.018785219781463292 )..........42000 score( 0.01879641786293035 )..........43000 score( 0.018745062125019817 )..........44000 score( 0.01879832567238219 )..........45000 score( 0.01870997788677797 )..........46000 score( 0.018645883544480876 )..........47000 score( 0.01862703756890983 )..........48000 score( 0.01857755508747762 )..........49000 score( 0.018585186932008214 ).........."
     ]
    },
    {
     "data": {
      "image/png": "[encoded data removed]",
      "text/plain": [
       "<matplotlib.figure.Figure at 0x7fdb74d15208>"
      ]
     },
     "metadata": {},
     "output_type": "display_data"
    },
    {
     "name": "stdout",
     "output_type": "stream",
     "text": [
      "vals:  [0.0010995601759296299, 9.996001599360253e-05, 0.9999000399840065, 9.996001599360253e-05, 9.996001599360253e-05, 0.0036985205917633044, 0.0008996401439424247, 9.996001599360253e-05, 0.1342463014794086, 0.9999000399840065, 0.00029988004798080854, 0.00029988004798080567, 0.9999000399840065, 0.9999000399840065, 0.9999000399840065, 9.996001599360253e-05, 0.9999000399840065, 0.7268092762894852, 0.9999000399840065, 0.9999000399840065, 9.996001599360253e-05, 9.996001599360253e-05, 0.040683726509396244, 0.9999000399840065, 9.996001599360253e-05, 9.996001599360253e-05, 9.996001599360253e-05, 9.996001599360253e-05, 9.996001599360253e-05, 0.9999000399840065, 0.9999000399840065, 0.9999000399840065, 0.9999000399840065, 0.18022790883646533, 0.9999000399840065, 9.996001599360253e-05, 9.996001599360253e-05, 0.9999000399840065, 0.9999000399840065, 0.9999000399840065, 0.9999000399840065, 0.9999000399840065, 0.9999000399840065, 9.996001599360253e-05, 0.9999000399840065, 0.9999000399840065, 9.996001599360253e-05, 0.9999000399840065, 9.996001599360253e-05, 9.996001599360253e-05, 9.996001599360253e-05, 0.9999000399840065, 0.9999000399840065, 9.996001599360253e-05, 9.996001599360253e-05, 0.9999000399840065, 9.996001599360253e-05, 0.9999000399840065, 0.9999000399840065, 9.996001599360253e-05, 9.996001599360253e-05, 9.996001599360253e-05, 9.996001599360253e-05, 9.996001599360253e-05, 0.00029988004798080567, 9.996001599360253e-05, 0.9999000399840065, 0.051879248300679616, 9.996001599360253e-05, 0.9999000399840065, 9.996001599360253e-05, 9.996001599360253e-05, 9.996001599360253e-05, 0.9999000399840065, 9.996001599360253e-05, 0.9999000399840065, 9.996001599360253e-05, 0.0154938024790084, 0.9999000399840065, 0.0004998000799680128, 9.996001599360253e-05, 0.0004998000799680108, 9.996001599360253e-05, 0.00029988004798080567, 9.996001599360253e-05, 9.996001599360253e-05, 9.996001599360253e-05, 9.996001599360253e-05, 0.9999000399840065, 0.9999000399840065, 9.996001599360253e-05, 9.996001599360253e-05, 9.996001599360253e-05, 0.9999000399840065, 0.9999000399840065, 9.996001599360253e-05, 9.996001599360253e-05, 9.996001599360253e-05, 0.13964414234306285, 0.003498600559776081]\n"
     ]
    },
    {
     "data": {
      "image/png": "[encoded data removed]",
      "text/plain": [
       "<matplotlib.figure.Figure at 0x7fdb76d79198>"
      ]
     },
     "metadata": {},
     "output_type": "display_data"
    }
   ],
   "source": [
    "kohonen(max_iter=50000, R=0)"
   ]
  },
  {
   "cell_type": "code",
   "execution_count": 16,
   "metadata": {
    "collapsed": true
   },
   "outputs": [],
   "source": [
    "def som_step(centers,data,neighbor,eta,sigma):\n",
    "    \"\"\"Performs one step of the sequential learning for a \n",
    "    self-organized map (SOM).\n",
    "    \n",
    "      centers = som_step(centers,data,neighbor,eta,sigma)\n",
    "    \n",
    "      Input and output arguments: \n",
    "       centers  (matrix) cluster centres. Have to be in format:\n",
    "                         center X dimension\n",
    "       data     (vector) the actually presented datapoint to be presented in\n",
    "                         this timestep\n",
    "       neighbor (matrix) the coordinates of the centers in the desired\n",
    "                         neighborhood.\n",
    "       eta      (scalar) a learning rate\n",
    "       sigma    (scalar) the width of the gaussian neighborhood function.\n",
    "                         Effectively describing the width of the neighborhood\n",
    "    \"\"\"\n",
    "    \n",
    "    size_k = int(np.sqrt(len(centers)))\n",
    "    \n",
    "    #find the best matching unit via the minimal distance to the datapoint\n",
    "    b = np.argmin(np.sum((centers - np.resize(data, (size_k**2, data.size)))**2,1))\n",
    "\n",
    "    # find coordinates of the winner\n",
    "    a,b = np.nonzero(neighbor == b)\n",
    "        \n",
    "    # update all units\n",
    "    for j in range(size_k**2):\n",
    "        # find coordinates of this unit\n",
    "        a1,b1 = np.nonzero(neighbor==j)\n",
    "        # calculate the distance and discounting factor\n",
    "        disc=gauss(np.sqrt((a-a1)**2+(b-b1)**2),[0, sigma])\n",
    "        # update weights        \n",
    "        centers[j,:] += disc * eta * (data - centers[j,:])\n",
    "        "
   ]
  },
  {
   "cell_type": "code",
   "execution_count": 17,
   "metadata": {
    "collapsed": true
   },
   "outputs": [],
   "source": [
    "def gauss(x,p):\n",
    "    \"\"\"Return the gauss function N(x), with mean p[0] and std p[1].\n",
    "    Normalized such that N(x=p[0]) = 1.\n",
    "    \"\"\"\n",
    "    return np.exp((-(x - p[0])**2) / (2 * p[1]**2))"
   ]
  },
  {
   "cell_type": "code",
   "execution_count": 18,
   "metadata": {
    "collapsed": true
   },
   "outputs": [],
   "source": [
    "def name2digits(name):\n",
    "    \"\"\" takes a string NAME and converts it into a pseudo-random selection of 4\n",
    "     digits from 0-9.\n",
    "     \n",
    "     Example:\n",
    "     name2digits('Felipe Gerhard')\n",
    "     returns: [0 4 5 7]\n",
    "     \"\"\"\n",
    "    \n",
    "    name = name.lower()\n",
    "    \n",
    "    if len(name)>25:\n",
    "        name = name[0:25]\n",
    "        \n",
    "    primenumbers = [2,3,5,7,11,13,17,19,23,29,31,37,41,43,47,53,59,61,67,71,73,79,83,89,97]\n",
    "    \n",
    "    n = len(name)\n",
    "    \n",
    "    s = 0.0\n",
    "    \n",
    "    for i in range(n):\n",
    "        s += primenumbers[i]*ord(name[i])*2.0**(i+1)\n",
    "\n",
    "    import scipy.io.matlab\n",
    "    Data = scipy.io.matlab.loadmat('hash.mat',struct_as_record=True)\n",
    "    x = Data['x']\n",
    "    t = np.mod(s,x.shape[0])\n",
    "\n",
    "    return np.sort(x[t,:])"
   ]
  },
  {
   "cell_type": "code",
   "execution_count": null,
   "metadata": {
    "collapsed": true
   },
   "outputs": [],
   "source": []
  },
  {
   "cell_type": "code",
   "execution_count": null,
   "metadata": {
    "collapsed": true
   },
   "outputs": [],
   "source": []
  },
  {
   "cell_type": "code",
   "execution_count": null,
   "metadata": {
    "collapsed": true
   },
   "outputs": [],
   "source": []
  }
 ],
 "metadata": {
  "anaconda-cloud": {},
  "kernelspec": {
   "display_name": "Python [conda root]",
   "language": "python",
   "name": "conda-root-py"
  },
  "language_info": {
   "codemirror_mode": {
    "name": "ipython",
    "version": 2
   },
   "file_extension": ".py",
   "mimetype": "text/x-python",
   "name": "python",
   "nbconvert_exporter": "python",
   "pygments_lexer": "ipython2",
   "version": "2.7.12"
  }
 },
 "nbformat": 4,
 "nbformat_minor": 0
}
